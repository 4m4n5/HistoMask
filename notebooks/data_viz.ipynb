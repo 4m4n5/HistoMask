{
 "cells": [
  {
   "cell_type": "code",
   "execution_count": 4,
   "id": "6e54b3e5-76c5-413e-b481-69c02b7a1db2",
   "metadata": {
    "tags": []
   },
   "outputs": [],
   "source": [
    "import os.path\n",
    "import random\n",
    "import numpy as np\n",
    "from PIL import Image\n",
    "\n",
    "import torch\n",
    "import torchvision.transforms as transforms\n",
    "\n",
    "from tqdm import tqdm"
   ]
  },
  {
   "cell_type": "code",
   "execution_count": 23,
   "id": "2bd05d21-a308-4f09-8067-0ae7d3314f9c",
   "metadata": {
    "tags": []
   },
   "outputs": [
    {
     "name": "stderr",
     "output_type": "stream",
     "text": [
      "/home/as3ek/.conda/envs/hist/lib/python3.8/site-packages/torchvision/transforms/transforms.py:332: UserWarning: Argument 'interpolation' of type int is deprecated since 0.13 and will be removed in 0.15. Please use InterpolationMode enum.\n",
      "  warnings.warn(\n"
     ]
    }
   ],
   "source": [
    "transform_list = []\n",
    "resize = True\n",
    "method = Image.NEAREST\n",
    "normalize = False\n",
    "\n",
    "osize = [128, 128]\n",
    "if resize:\n",
    "    transform_list.append(transforms.Resize(osize, method))\n",
    "\n",
    "\n",
    "transform_list.append(transforms.RandomHorizontalFlip(p=0.5))\n",
    "\n",
    "transform_list += [transforms.ToTensor()]\n",
    "\n",
    "if normalize:\n",
    "    transform_list += [transforms.Normalize((0.5, 0.5, 0.5),\n",
    "                                            (0.5, 0.5, 0.5)\n",
    "                                            )]\n",
    "\n",
    "transform_label = transforms.Compose(transform_list)"
   ]
  },
  {
   "cell_type": "code",
   "execution_count": 37,
   "id": "e2d112b8-c00a-4a0f-ab63-9be89c8966e9",
   "metadata": {
    "tags": []
   },
   "outputs": [],
   "source": [
    "label_path = \"/scratch/as3ek/github/HistoMask/data/segvae/humanparsing/seg_deploy/2500_1.png\""
   ]
  },
  {
   "cell_type": "code",
   "execution_count": 40,
   "id": "039e3f79-710e-4b80-a170-87daa163c690",
   "metadata": {
    "tags": []
   },
   "outputs": [],
   "source": [
    "label = Image.open(label_path)"
   ]
  },
  {
   "cell_type": "code",
   "execution_count": 41,
   "id": "45ac460c-29e5-45fb-ad01-a2e78b5fec0b",
   "metadata": {
    "tags": []
   },
   "outputs": [
    {
     "data": {
      "text/plain": [
       "array([ 0,  2,  7,  8,  9, 10, 11, 12, 13, 14, 15, 16], dtype=uint8)"
      ]
     },
     "execution_count": 41,
     "metadata": {},
     "output_type": "execute_result"
    }
   ],
   "source": [
    "np.unique(label)"
   ]
  },
  {
   "cell_type": "code",
   "execution_count": 42,
   "id": "e7d3a44b-b3e6-428c-b988-bc2a0b78883c",
   "metadata": {
    "tags": []
   },
   "outputs": [],
   "source": [
    "label_tensor = transform_label(label) * 255.0"
   ]
  },
  {
   "cell_type": "code",
   "execution_count": 43,
   "id": "43eaac24-46f4-46c3-8100-9e4a76337681",
   "metadata": {
    "tags": []
   },
   "outputs": [
    {
     "data": {
      "text/plain": [
       "tensor([ 0.,  2.,  7.,  8.,  9., 10., 11., 12., 13., 14., 15., 16.])"
      ]
     },
     "execution_count": 43,
     "metadata": {},
     "output_type": "execute_result"
    }
   ],
   "source": [
    "torch.unique(label_tensor)"
   ]
  },
  {
   "cell_type": "code",
   "execution_count": 62,
   "id": "593ce76e-dd36-468e-87af-e983f71abaec",
   "metadata": {
    "tags": []
   },
   "outputs": [],
   "source": [
    "label_path_lizard = \"/scratch/as3ek/github/HistoMask/data/segvae/lizard/classes/consep_1__0_372.png\""
   ]
  },
  {
   "cell_type": "code",
   "execution_count": 63,
   "id": "e4162269-18e1-4ed4-bd95-59d377f36372",
   "metadata": {
    "tags": []
   },
   "outputs": [],
   "source": [
    "label_lizard = Image.fromarray(np.array(Image.open(label_path_lizard)).astype(np.uint8))"
   ]
  },
  {
   "cell_type": "code",
   "execution_count": 64,
   "id": "0446e9ce-1df9-4788-b748-afdb4e9c42b6",
   "metadata": {
    "tags": []
   },
   "outputs": [
    {
     "data": {
      "text/plain": [
       "array([0, 2, 3, 6], dtype=uint8)"
      ]
     },
     "execution_count": 64,
     "metadata": {},
     "output_type": "execute_result"
    }
   ],
   "source": [
    "np.unique(label_lizard)"
   ]
  },
  {
   "cell_type": "code",
   "execution_count": 65,
   "id": "8f7bdef6-de33-49b9-a85d-02f658f01802",
   "metadata": {
    "tags": []
   },
   "outputs": [],
   "source": [
    "label_lizard_tensor = transform_label(label_lizard) * 255.0"
   ]
  },
  {
   "cell_type": "code",
   "execution_count": 66,
   "id": "e600c629-3cce-4e8f-9747-1b36366edbd5",
   "metadata": {
    "tags": []
   },
   "outputs": [
    {
     "data": {
      "text/plain": [
       "tensor([0., 2., 3., 6.])"
      ]
     },
     "execution_count": 66,
     "metadata": {},
     "output_type": "execute_result"
    }
   ],
   "source": [
    "torch.unique(label_lizard_tensor)"
   ]
  },
  {
   "cell_type": "code",
   "execution_count": null,
   "id": "77ca0a5d-29cd-40e4-8a67-521a30d90613",
   "metadata": {},
   "outputs": [],
   "source": []
  }
 ],
 "metadata": {
  "kernelspec": {
   "display_name": "hist",
   "language": "python",
   "name": "hist"
  },
  "language_info": {
   "codemirror_mode": {
    "name": "ipython",
    "version": 3
   },
   "file_extension": ".py",
   "mimetype": "text/x-python",
   "name": "python",
   "nbconvert_exporter": "python",
   "pygments_lexer": "ipython3",
   "version": "3.8.16"
  }
 },
 "nbformat": 4,
 "nbformat_minor": 5
}
