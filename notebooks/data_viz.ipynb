{
 "cells": [
  {
   "cell_type": "code",
   "execution_count": 2,
   "id": "6e54b3e5-76c5-413e-b481-69c02b7a1db2",
   "metadata": {
    "tags": []
   },
   "outputs": [],
   "source": [
    "import os.path\n",
    "import random\n",
    "import numpy as np\n",
    "from PIL import Image\n",
    "\n",
    "import torch\n",
    "import torchvision.transforms as transforms\n",
    "\n",
    "from tqdm import tqdm"
   ]
  },
  {
   "cell_type": "code",
   "execution_count": 10,
   "id": "2bd05d21-a308-4f09-8067-0ae7d3314f9c",
   "metadata": {
    "tags": []
   },
   "outputs": [],
   "source": [
    "def get_transform(method=Image.BICUBIC, normalize=True, flip_prob=0.5, resize=True):\n",
    "    transform_list = []\n",
    "\n",
    "    osize = [128, 128]\n",
    "    if resize:\n",
    "        transform_list.append(transforms.Resize(osize, method))\n",
    "\n",
    "    transform_list.append(transforms.RandomHorizontalFlip(p=0.5))\n",
    "    transform_list += [transforms.ToTensor()]\n",
    "\n",
    "    if normalize:\n",
    "        transform_list += [\n",
    "            transforms.Normalize(\n",
    "                (0.5, 0.5, 0.5),\n",
    "                (0.5, 0.5, 0.5)\n",
    "            )]\n",
    "\n",
    "    return transforms.Compose(transform_list)"
   ]
  },
  {
   "cell_type": "code",
   "execution_count": 41,
   "id": "e2d112b8-c00a-4a0f-ab63-9be89c8966e9",
   "metadata": {
    "tags": []
   },
   "outputs": [],
   "source": [
    "label_path = \"/scratch/as3ek/github/HistoMask/data/segvae/lizard/classes/consep_1__0_0.png\""
   ]
  },
  {
   "cell_type": "code",
   "execution_count": 42,
   "id": "039e3f79-710e-4b80-a170-87daa163c690",
   "metadata": {
    "tags": []
   },
   "outputs": [],
   "source": [
    "label = Image.open(label_path)\n",
    "label = Image.fromarray(np.array(label).astype(np.uint8))"
   ]
  },
  {
   "cell_type": "code",
   "execution_count": 43,
   "id": "45ac460c-29e5-45fb-ad01-a2e78b5fec0b",
   "metadata": {
    "tags": []
   },
   "outputs": [
    {
     "data": {
      "text/plain": [
       "array([0, 2], dtype=uint8)"
      ]
     },
     "execution_count": 43,
     "metadata": {},
     "output_type": "execute_result"
    }
   ],
   "source": [
    "np.unique(label)"
   ]
  },
  {
   "cell_type": "code",
   "execution_count": 44,
   "id": "e7d3a44b-b3e6-428c-b988-bc2a0b78883c",
   "metadata": {
    "tags": []
   },
   "outputs": [],
   "source": [
    "transform_label = get_transform(method=Image.NEAREST, normalize=False, flip_prob=0)\n",
    "label_tensor = transform_label(label) * 255.0"
   ]
  },
  {
   "cell_type": "code",
   "execution_count": 45,
   "id": "43eaac24-46f4-46c3-8100-9e4a76337681",
   "metadata": {
    "tags": []
   },
   "outputs": [
    {
     "data": {
      "text/plain": [
       "tensor([0., 2.])"
      ]
     },
     "execution_count": 45,
     "metadata": {},
     "output_type": "execute_result"
    }
   ],
   "source": [
    "torch.unique(label_tensor)"
   ]
  },
  {
   "cell_type": "code",
   "execution_count": 46,
   "id": "2c829bb2-361f-4fb0-a35d-3dd5c47b1ae8",
   "metadata": {
    "tags": []
   },
   "outputs": [
    {
     "data": {
      "text/plain": [
       "torch.Size([1, 128, 128])"
      ]
     },
     "execution_count": 46,
     "metadata": {},
     "output_type": "execute_result"
    }
   ],
   "source": [
    "label_tensor.size()"
   ]
  },
  {
   "cell_type": "code",
   "execution_count": 47,
   "id": "01cbfbea-a5e7-4dc5-8533-2d4c7ed743d6",
   "metadata": {
    "tags": []
   },
   "outputs": [
    {
     "name": "stderr",
     "output_type": "stream",
     "text": [
      "/home/as3ek/.conda/envs/hist/lib/python3.8/site-packages/torchvision/transforms/transforms.py:332: UserWarning: Argument 'interpolation' of type int is deprecated since 0.13 and will be removed in 0.15. Please use InterpolationMode enum.\n",
      "  warnings.warn(\n"
     ]
    }
   ],
   "source": [
    "image_path = \"/scratch/as3ek/github/HistoMask/data/segvae/lizard/images/consep_1__0_0.png\"\n",
    "\n",
    "image = Image.open(image_path)\n",
    "image = image.convert('RGB')\n",
    "\n",
    "# NOTE: if label flip, image should flip as well...\n",
    "transform_image = get_transform(method=Image.BICUBIC, normalize=True, flip_prob=0)\n",
    "image_tensor = transform_image(image)"
   ]
  },
  {
   "cell_type": "code",
   "execution_count": 48,
   "id": "7dabf1e7-da56-4f1f-803a-fc33e528f30d",
   "metadata": {
    "tags": []
   },
   "outputs": [
    {
     "data": {
      "text/plain": [
       "torch.Size([3, 128, 128])"
      ]
     },
     "execution_count": 48,
     "metadata": {},
     "output_type": "execute_result"
    }
   ],
   "source": [
    "image_tensor.size()"
   ]
  },
  {
   "cell_type": "code",
   "execution_count": 52,
   "id": "5653c4cd-f2c5-4b81-9d44-a6d5127fd9c5",
   "metadata": {
    "tags": []
   },
   "outputs": [],
   "source": [
    "# label\n",
    "label = label_tensor.long()\n",
    "# normalize\n",
    "image = 0\n",
    "\n",
    "# create one-hot label map\n",
    "label_map = label.unsqueeze(0)\n",
    "bs, _, h, w = label_map.size()\n",
    "nc = 7 + 1\n",
    "\n",
    "input_label = torch.FloatTensor(bs, nc, h, w).zero_()\n",
    "input_semantics = input_label.scatter_(1, label_map, 1.0)\n",
    "\n",
    "# NOTE: set bg as 0.\n",
    "input_semantics[:, 0] = 0.\n",
    "\n",
    "label_set = (input_semantics.view(bs, nc, -1).sum(-1) > 0).float()\n",
    "label_set[:, 0] = 0. # set bg to 0"
   ]
  },
  {
   "cell_type": "code",
   "execution_count": 53,
   "id": "7fbf383a-4739-4b72-9a33-6fb76e6865f6",
   "metadata": {
    "tags": []
   },
   "outputs": [
    {
     "data": {
      "text/plain": [
       "array([0, 2])"
      ]
     },
     "execution_count": 53,
     "metadata": {},
     "output_type": "execute_result"
    }
   ],
   "source": [
    "np.unique(label)"
   ]
  },
  {
   "cell_type": "code",
   "execution_count": 54,
   "id": "282053a4-3b18-4da3-a567-f2fdc6c62b6e",
   "metadata": {
    "tags": []
   },
   "outputs": [
    {
     "data": {
      "text/plain": [
       "tensor([[0., 0., 1., 0., 0., 0., 0., 0.]])"
      ]
     },
     "execution_count": 54,
     "metadata": {},
     "output_type": "execute_result"
    }
   ],
   "source": [
    "label_set"
   ]
  },
  {
   "cell_type": "code",
   "execution_count": 62,
   "id": "593ce76e-dd36-468e-87af-e983f71abaec",
   "metadata": {
    "tags": []
   },
   "outputs": [],
   "source": [
    "label_path_lizard = \"/scratch/as3ek/github/HistoMask/data/segvae/lizard/classes/consep_1__0_372.png\""
   ]
  },
  {
   "cell_type": "code",
   "execution_count": 63,
   "id": "e4162269-18e1-4ed4-bd95-59d377f36372",
   "metadata": {
    "tags": []
   },
   "outputs": [],
   "source": [
    "label_lizard = Image.fromarray(np.array(Image.open(label_path_lizard)).astype(np.uint8))"
   ]
  },
  {
   "cell_type": "code",
   "execution_count": 64,
   "id": "0446e9ce-1df9-4788-b748-afdb4e9c42b6",
   "metadata": {
    "tags": []
   },
   "outputs": [
    {
     "data": {
      "text/plain": [
       "array([0, 2, 3, 6], dtype=uint8)"
      ]
     },
     "execution_count": 64,
     "metadata": {},
     "output_type": "execute_result"
    }
   ],
   "source": [
    "np.unique(label_lizard)"
   ]
  },
  {
   "cell_type": "code",
   "execution_count": 65,
   "id": "8f7bdef6-de33-49b9-a85d-02f658f01802",
   "metadata": {
    "tags": []
   },
   "outputs": [],
   "source": [
    "label_lizard_tensor = transform_label(label_lizard) * 255.0"
   ]
  },
  {
   "cell_type": "code",
   "execution_count": 66,
   "id": "e600c629-3cce-4e8f-9747-1b36366edbd5",
   "metadata": {
    "tags": []
   },
   "outputs": [
    {
     "data": {
      "text/plain": [
       "tensor([0., 2., 3., 6.])"
      ]
     },
     "execution_count": 66,
     "metadata": {},
     "output_type": "execute_result"
    }
   ],
   "source": [
    "torch.unique(label_lizard_tensor)"
   ]
  },
  {
   "cell_type": "code",
   "execution_count": null,
   "id": "77ca0a5d-29cd-40e4-8a67-521a30d90613",
   "metadata": {},
   "outputs": [],
   "source": []
  }
 ],
 "metadata": {
  "kernelspec": {
   "display_name": "hist",
   "language": "python",
   "name": "hist"
  },
  "language_info": {
   "codemirror_mode": {
    "name": "ipython",
    "version": 3
   },
   "file_extension": ".py",
   "mimetype": "text/x-python",
   "name": "python",
   "nbconvert_exporter": "python",
   "pygments_lexer": "ipython3",
   "version": "3.8.16"
  }
 },
 "nbformat": 4,
 "nbformat_minor": 5
}
